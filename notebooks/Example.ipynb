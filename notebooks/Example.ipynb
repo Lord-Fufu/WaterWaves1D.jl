{
 "cells": [
  {
   "cell_type": "markdown",
   "metadata": {},
   "source": [
    "*This notebook provides a typical example of possible numerical experiments made possible by the package WaterWaves1D. Specifically, we integrate numerically two models for the propagation of water waves with the same initial data, and compare solutions.*"
   ]
  },
  {
   "cell_type": "markdown",
   "metadata": {},
   "source": [
    "## Initialization"
   ]
  },
  {
   "cell_type": "markdown",
   "metadata": {},
   "source": [
    "Import package"
   ]
  },
  {
   "cell_type": "code",
   "execution_count": 1,
   "metadata": {},
   "outputs": [
    {
     "name": "stderr",
     "output_type": "stream",
     "text": [
      "\u001b[32m\u001b[1m Activating\u001b[22m\u001b[39m environment at `~/Desktop/Julia/WaterWavesModels/WaterWaves1D.jl/Project.toml`\n"
     ]
    }
   ],
   "source": [
    "Pkg.activate(\"..\")\n",
    "using WaterWaves1D"
   ]
  },
  {
   "cell_type": "markdown",
   "metadata": {},
   "source": [
    "Define parameters of the problem"
   ]
  },
  {
   "cell_type": "code",
   "execution_count": 2,
   "metadata": {},
   "outputs": [],
   "source": [
    "param = ( \n",
    "    # Physical parameters. Variables are non-dimensionalized as in Lannes, The water waves problem, isbn:978-0-8218-9470-5\n",
    "    μ  = 1,     # shallow-water dimensionless parameter\n",
    "    ϵ  = 1/4,   # nonlinearity dimensionless parameter\n",
    "    # Numerical parameters\n",
    "    N  = 2^11,  # number of collocation points\n",
    "    L  = 10,    # half-length of the numerical tank (-L,L)\n",
    "    T  = 5,     # final time of computation\n",
    "    dt = 0.01, # timestep\n",
    "                );"
   ]
  },
  {
   "cell_type": "markdown",
   "metadata": {},
   "source": [
    "Define initial data\n"
   ]
  },
  {
   "cell_type": "code",
   "execution_count": 3,
   "metadata": {},
   "outputs": [],
   "source": [
    "z(x) = exp.(-abs.(x).^4); # surface deformation\n",
    "v(x) = 0*exp.(-x.^2);     # zero initial velocity \n",
    "init = Init(z,v);         # generate the initial data with correct type"
   ]
  },
  {
   "cell_type": "markdown",
   "metadata": {},
   "source": [
    "Set up initial-value problems for different models to compare"
   ]
  },
  {
   "cell_type": "code",
   "execution_count": 4,
   "metadata": {},
   "outputs": [
    {
     "name": "stderr",
     "output_type": "stream",
     "text": [
      "┌ Info: \n",
      "│ Build the initial-value problem for model water waves\n",
      "│ with parameters\n",
      "│ (μ = 1, ϵ = 0.25, N = 2048, L = 10, T = 5, dt = 0.01)\n",
      "└ @ WaterWaves1D /Users/vduchene/Desktop/Julia/WaterWavesModels/WaterWaves1D.jl/src/problem.jl:46\n",
      "┌ Info: \n",
      "│ Build the initial-value problem for model WW2\n",
      "│ with parameters\n",
      "│ (μ = 1, ϵ = 0.25, N = 2048, L = 10, T = 5, dt = 0.01)\n",
      "└ @ WaterWaves1D /Users/vduchene/Desktop/Julia/WaterWavesModels/WaterWaves1D.jl/src/problem.jl:46\n"
     ]
    }
   ],
   "source": [
    "model1=WaterWaves(param,verbose=false) # The water waves system\n",
    "model2=WWn(param;n=2,dealias=1,δ=1/10,verbose=false) # The quadratic model (WW2)\n",
    "# type `?WaterWaves` or `?WWn` to see details and signification of arguments\n",
    "problem1=Problem(model1, init, param, solver=RK4(model1)) ;\n",
    "problem2=Problem(model2, init, param, solver=RK4(model2)) ;\n",
    "problems = [problem1 problem2] ;"
   ]
  },
  {
   "cell_type": "markdown",
   "metadata": {},
   "source": [
    "## Computation"
   ]
  },
  {
   "cell_type": "markdown",
   "metadata": {},
   "source": [
    "Solve integration in time"
   ]
  },
  {
   "cell_type": "code",
   "execution_count": 5,
   "metadata": {},
   "outputs": [
    {
     "name": "stderr",
     "output_type": "stream",
     "text": [
      "\u001b[32mProgress:  39%|████████████████▏                        |  ETA: 0:00:06\u001b[39m┌ Info: \n",
      "│ Done solving the model water waves\n",
      "│ with parameters\n",
      "│ (μ = 1, ϵ = 0.25, N = 2048, L = 10, T = 5, dt = 0.01)\n",
      "└ @ WaterWaves1D /Users/vduchene/Desktop/Julia/WaterWavesModels/WaterWaves1D.jl/src/problem.jl:175\n",
      "\u001b[32mProgress: 100%|█████████████████████████████████████████| Time: 0:00:07\u001b[39m\n"
     ]
    },
    {
     "name": "stdout",
     "output_type": "stream",
     "text": [
      "\n"
     ]
    },
    {
     "name": "stderr",
     "output_type": "stream",
     "text": [
      "┌ Info: \n",
      "│ Done solving the model WW2\n",
      "│ with parameters\n",
      "│ (μ = 1, ϵ = 0.25, N = 2048, L = 10, T = 5, dt = 0.01)\n",
      "└ @ WaterWaves1D /Users/vduchene/Desktop/Julia/WaterWavesModels/WaterWaves1D.jl/src/problem.jl:175\n"
     ]
    }
   ],
   "source": [
    "solve!(problems)"
   ]
  },
  {
   "cell_type": "markdown",
   "metadata": {},
   "source": [
    "## Visualization"
   ]
  },
  {
   "cell_type": "markdown",
   "metadata": {},
   "source": [
    "Plot solutions at final time\n"
   ]
  },
  {
   "cell_type": "code",
   "execution_count": 6,
   "metadata": {},
   "outputs": [
    {
     "ename": "UndefVarError",
     "evalue": "UndefVarError: fft not defined",
     "output_type": "error",
     "traceback": [
      "UndefVarError: fft not defined",
      "",
      "Stacktrace:",
      " [1] plot_solution!(::Plots.Plot{Plots.GRBackend}, ::Array{Problem,2}; t::Nothing, x::Nothing, interpolation::Bool, compression::Bool, surface::Bool, fourier::Bool, velocity::Bool, label::Nothing) at /Users/vduchene/Desktop/Julia/WaterWavesModels/WaterWaves1D.jl/src/Figures.jl:119",
      " [2] plot_solution(::Array{Problem,2}; t::Nothing, x::Nothing, interpolation::Bool, compression::Bool, surface::Bool, velocity::Bool, fourier::Bool, label::Nothing) at /Users/vduchene/Desktop/Julia/WaterWavesModels/WaterWaves1D.jl/src/Figures.jl:166",
      " [3] top-level scope at In[6]:2"
     ]
    }
   ],
   "source": [
    "include(\"../src/Figures.jl\");\n",
    "plot_solution(problems;fourier=false)"
   ]
  },
  {
   "cell_type": "code",
   "execution_count": 7,
   "metadata": {},
   "outputs": [
    {
     "ename": "UndefVarError",
     "evalue": "UndefVarError: fft not defined",
     "output_type": "error",
     "traceback": [
      "UndefVarError: fft not defined",
      "",
      "Stacktrace:",
      " [1] plot_difference!(::Plots.Plot{Plots.GRBackend}, ::Array{Problem,2}; t::Nothing, x::Nothing, interpolation::Bool, compression::Bool, fast::Bool, surface::Bool, fourier::Bool, velocity::Bool, label::Nothing) at /Users/vduchene/Desktop/Julia/WaterWavesModels/WaterWaves1D.jl/src/Figures.jl:218",
      " [2] plot_difference(::Array{Problem,2}; t::Nothing, x::Nothing, interpolation::Bool, compression::Bool, fast::Bool, surface::Bool, velocity::Bool, fourier::Bool, label::Nothing) at /Users/vduchene/Desktop/Julia/WaterWavesModels/WaterWaves1D.jl/src/Figures.jl:273",
      " [3] top-level scope at In[7]:1"
     ]
    }
   ],
   "source": [
    "plot_difference(problems;fourier=false)"
   ]
  },
  {
   "cell_type": "markdown",
   "metadata": {},
   "source": [
    "Generate animation"
   ]
  },
  {
   "cell_type": "code",
   "execution_count": 8,
   "metadata": {},
   "outputs": [
    {
     "ename": "UndefVarError",
     "evalue": "UndefVarError: fft not defined",
     "output_type": "error",
     "traceback": [
      "UndefVarError: fft not defined",
      "",
      "Stacktrace:",
      " [1] create_animation(::Array{Problem,2}; name::Nothing, x::Nothing, Nframes::Int64, xlims::Nothing, ylims::Tuple{Float64,Int64}, vlims::Nothing, flims::Nothing, interpolation::Bool, compression::Bool, surface::Bool, fourier::Bool, velocity::Bool) at /Users/vduchene/Desktop/Julia/WaterWavesModels/WaterWaves1D.jl/src/Figures.jl:46",
      " [2] top-level scope at In[8]:1"
     ]
    }
   ],
   "source": [
    "anim = create_animation(problems;fourier=false,ylims=(-0.25,1))\n",
    "gif(anim, \"WWvsXX.gif\", fps=15)"
   ]
  },
  {
   "cell_type": "code",
   "execution_count": null,
   "metadata": {},
   "outputs": [],
   "source": []
  }
 ],
 "metadata": {
  "kernelspec": {
   "display_name": "Julia 1.4.0",
   "language": "julia",
   "name": "julia-1.4"
  },
  "language_info": {
   "file_extension": ".jl",
   "mimetype": "application/julia",
   "name": "julia",
   "version": "1.4.0"
  }
 },
 "nbformat": 4,
 "nbformat_minor": 2
}
