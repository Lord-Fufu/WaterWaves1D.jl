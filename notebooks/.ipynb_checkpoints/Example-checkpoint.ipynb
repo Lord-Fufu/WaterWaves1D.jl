{
 "cells": [
  {
   "cell_type": "markdown",
   "metadata": {},
   "source": [
    "*This notebook provides a typical example of possible numerical experiments made possible by the package WaterWaves1D. Specifically, we integrate numerically two models for the propagation of water waves with the same initial data, and compare solutions.*"
   ]
  },
  {
   "cell_type": "markdown",
   "metadata": {},
   "source": [
    "## Initialization"
   ]
  },
  {
   "cell_type": "markdown",
   "metadata": {},
   "source": [
    "Import package"
   ]
  },
  {
   "cell_type": "code",
   "execution_count": 1,
   "metadata": {},
   "outputs": [
    {
     "name": "stderr",
     "output_type": "stream",
     "text": [
      "\u001b[32m\u001b[1m  Activating\u001b[22m\u001b[39m project at `~/Desktop/Julia/WaterWavesModels/WaterWaves1D.jl`\n"
     ]
    }
   ],
   "source": [
    "Pkg.activate(\"..\")\n",
    "using WaterWaves1D"
   ]
  },
  {
   "cell_type": "markdown",
   "metadata": {},
   "source": [
    "Define parameters of the problem"
   ]
  },
  {
   "cell_type": "code",
   "execution_count": 2,
   "metadata": {},
   "outputs": [],
   "source": [
    "param = ( \n",
    "    # Physical parameters. Variables are non-dimensionalized as in Lannes, The water waves problem, isbn:978-0-8218-9470-5\n",
    "    μ  = 1,     # shallow-water dimensionless parameter\n",
    "    ϵ  = 1/4,   # nonlinearity dimensionless parameter\n",
    "    # Numerical parameters\n",
    "    N  = 2^11,  # number of collocation points\n",
    "    L  = 10,    # half-length of the numerical tank (-L,L)\n",
    "    T  = 5,     # final time of computation\n",
    "    dt = 0.01,  # timestep\n",
    "                );"
   ]
  },
  {
   "cell_type": "markdown",
   "metadata": {},
   "source": [
    "Define initial data\n"
   ]
  },
  {
   "cell_type": "code",
   "execution_count": 3,
   "metadata": {},
   "outputs": [],
   "source": [
    "z(x) = exp.(-x.^4); # surface deformation\n",
    "v(x) = 0*z(x);      # zero initial velocity \n",
    "init = Init(z,v);   # generate the initial data with correct type"
   ]
  },
  {
   "cell_type": "markdown",
   "metadata": {},
   "source": [
    "Set up initial-value problems for different models to compare"
   ]
  },
  {
   "cell_type": "code",
   "execution_count": 4,
   "metadata": {},
   "outputs": [
    {
     "name": "stderr",
     "output_type": "stream",
     "text": [
      "┌ Info: \n",
      "│ Build the initial-value problem for model water waves\n",
      "│ with parameters\n",
      "│ (μ = 1, ϵ = 0.25, N = 2048, L = 10, T = 5, dt = 0.01)\n",
      "└ @ WaterWaves1D /Users/vduchene/Desktop/Julia/WaterWavesModels/WaterWaves1D.jl/src/problem.jl:46\n",
      "┌ Info: \n",
      "│ Build the initial-value problem for model WW2\n",
      "│ with parameters\n",
      "│ (μ = 1, ϵ = 0.25, N = 2048, L = 10, T = 5, dt = 0.01)\n",
      "└ @ WaterWaves1D /Users/vduchene/Desktop/Julia/WaterWavesModels/WaterWaves1D.jl/src/problem.jl:46\n"
     ]
    }
   ],
   "source": [
    "model1=WaterWaves(param,verbose=false) # The water waves system\n",
    "model2=WWn(param;n=2,dealias=1,δ=1/10,verbose=false) # The quadratic model (WW2)\n",
    "# type `?WaterWaves` or `?WWn` to see details and signification of arguments\n",
    "problem1=Problem(model1, init, param, solver=RK4(model1)) ;\n",
    "problem2=Problem(model2, init, param, solver=RK4(model2)) ;\n",
    "problems = [problem1 problem2] ;"
   ]
  },
  {
   "cell_type": "markdown",
   "metadata": {},
   "source": [
    "## Computation"
   ]
  },
  {
   "cell_type": "markdown",
   "metadata": {},
   "source": [
    "Solve integration in time"
   ]
  },
  {
   "cell_type": "code",
   "execution_count": 5,
   "metadata": {},
   "outputs": [
    {
     "name": "stderr",
     "output_type": "stream",
     "text": [
      "\u001b[32mProgress:   0%|▏                                        |  ETA: 0:15:29\u001b[39m┌ Info: \n",
      "│ Done solving the model WW2\n",
      "│ with parameters\n",
      "│ (μ = 1, ϵ = 0.25, N = 2048, L = 10, T = 5, dt = 0.01)\n",
      "└ @ WaterWaves1D /Users/vduchene/Desktop/Julia/WaterWavesModels/WaterWaves1D.jl/src/problem.jl:175\n",
      "\u001b[32mProgress: 100%|█████████████████████████████████████████| Time: 0:00:07\u001b[39m\n"
     ]
    },
    {
     "name": "stdout",
     "output_type": "stream",
     "text": [
      "\n"
     ]
    },
    {
     "name": "stderr",
     "output_type": "stream",
     "text": [
      "┌ Info: \n",
      "│ Done solving the model water waves\n",
      "│ with parameters\n",
      "│ (μ = 1, ϵ = 0.25, N = 2048, L = 10, T = 5, dt = 0.01)\n",
      "└ @ WaterWaves1D /Users/vduchene/Desktop/Julia/WaterWavesModels/WaterWaves1D.jl/src/problem.jl:175\n"
     ]
    }
   ],
   "source": [
    "solve!(problem1);solve!(problem2);"
   ]
  },
  {
   "cell_type": "markdown",
   "metadata": {},
   "source": [
    "## Visualization"
   ]
  },
  {
   "cell_type": "markdown",
   "metadata": {},
   "source": [
    "Plot solutions at final time\n"
   ]
  },
  {
   "cell_type": "code",
   "execution_count": 6,
   "metadata": {},
   "outputs": [
    {
     "ename": "LoadError",
     "evalue": "UndefVarError: savefig not defined",
     "output_type": "error",
     "traceback": [
      "UndefVarError: savefig not defined",
      "",
      "Stacktrace:",
      " [1] top-level scope",
      "   @ In[6]:2",
      " [2] eval",
      "   @ ./boot.jl:373 [inlined]",
      " [3] include_string(mapexpr::typeof(REPL.softscope), mod::Module, code::String, filename::String)",
      "   @ Base ./loading.jl:1196"
     ]
    }
   ],
   "source": [
    "plt=plot_solution(problems;fourier=false)\n",
    "savefig(plt,\"Example.pdf\")"
   ]
  },
  {
   "cell_type": "code",
   "execution_count": 7,
   "metadata": {},
   "outputs": [
    {
     "ename": "ErrorException",
     "evalue": "could not load library \"libGR.dylib\"\ndlopen(/Users/vduchene/.julia/artifacts/6905350bc6f9e339b3c85fceaa487595c2e9bee0/lib/../lib/libGR.dylib, 1): Library not loaded: @rpath/libjpeg.62.dylib\n  Referenced from: /Users/vduchene/.julia/artifacts/6905350bc6f9e339b3c85fceaa487595c2e9bee0/lib/libGR.dylib\n  Reason: image not found",
     "output_type": "error",
     "traceback": [
      "could not load library \"libGR.dylib\"\ndlopen(/Users/vduchene/.julia/artifacts/6905350bc6f9e339b3c85fceaa487595c2e9bee0/lib/../lib/libGR.dylib, 1): Library not loaded: @rpath/libjpeg.62.dylib\n  Referenced from: /Users/vduchene/.julia/artifacts/6905350bc6f9e339b3c85fceaa487595c2e9bee0/lib/libGR.dylib\n  Reason: image not found",
      "",
      "Stacktrace:",
      "  [1] dlopen(s::String, flags::UInt32; throw_error::Bool)",
      "    @ Base.Libc.Libdl ./libdl.jl:117",
      "  [2] dlopen (repeats 2 times)",
      "    @ ./libdl.jl:117 [inlined]",
      "  [3] load_libs(always::Bool)",
      "    @ GR ~/.julia/packages/GR/ziR7T/src/funcptrs.jl:63",
      "  [4] get_func_ptr(handle::Base.RefValue{Ptr{Nothing}}, ptrs::GR.LibGR_Ptrs, func::Symbol)",
      "    @ GR ~/.julia/packages/GR/ziR7T/src/funcptrs.jl:77",
      "  [5] libGR_ptr",
      "    @ ~/.julia/packages/GR/ziR7T/src/funcptrs.jl:87 [inlined]",
      "  [6] setcharheight(height::Float64)",
      "    @ GR ~/.julia/packages/GR/ziR7T/src/GR.jl:1654",
      "  [7] gr_set_font(f::Plots.Font, s::Plots.Subplot{Plots.GRBackend}; halign::Symbol, valign::Symbol, color::ColorTypes.RGBA{Float64}, rotation::Float64)",
      "    @ Plots ~/.julia/packages/Plots/9C6z9/src/backends/gr.jl:408",
      "  [8] gr_set_font(f::Plots.Font, s::Plots.Subplot{Plots.GRBackend})",
      "    @ Plots ~/.julia/packages/Plots/9C6z9/src/backends/gr.jl:407",
      "  [9] _update_min_padding!(sp::Plots.Subplot{Plots.GRBackend})",
      "    @ Plots ~/.julia/packages/Plots/9C6z9/src/backends/gr.jl:789",
      " [10] iterate",
      "    @ ./generator.jl:47 [inlined]",
      " [11] _collect(c::Matrix{RecipesBase.AbstractLayout}, itr::Base.Generator{Matrix{RecipesBase.AbstractLayout}, typeof(Plots._update_min_padding!)}, #unused#::Base.EltypeUnknown, isz::Base.HasShape{2})",
      "    @ Base ./array.jl:744",
      " [12] collect_similar",
      "    @ ./array.jl:653 [inlined]",
      " [13] map",
      "    @ ./abstractarray.jl:2849 [inlined]",
      " [14] _update_min_padding!(layout::Plots.GridLayout)",
      "    @ Plots ~/.julia/packages/Plots/9C6z9/src/layouts.jl:290",
      " [15] prepare_output(plt::Plots.Plot{Plots.GRBackend})",
      "    @ Plots ~/.julia/packages/Plots/9C6z9/src/plot.jl:224",
      " [16] show(io::IOBuffer, m::MIME{Symbol(\"image/svg+xml\")}, plt::Plots.Plot{Plots.GRBackend})",
      "    @ Plots ~/.julia/packages/Plots/9C6z9/src/output.jl:213",
      " [17] sprint(::Function, ::MIME{Symbol(\"image/svg+xml\")}, ::Vararg{Any}; context::Nothing, sizehint::Int64)",
      "    @ Base ./strings/io.jl:114",
      " [18] sprint",
      "    @ ./strings/io.jl:108 [inlined]",
      " [19] _ijulia_display_dict(plt::Plots.Plot{Plots.GRBackend})",
      "    @ Plots ~/.julia/packages/Plots/9C6z9/src/ijulia.jl:47",
      " [20] display_dict(plt::Plots.Plot{Plots.GRBackend})",
      "    @ Plots ~/.julia/packages/Plots/9C6z9/src/init.jl:92",
      " [21] #invokelatest#2",
      "    @ ./essentials.jl:716 [inlined]",
      " [22] invokelatest",
      "    @ ./essentials.jl:714 [inlined]",
      " [23] execute_request(socket::ZMQ.Socket, msg::IJulia.Msg)",
      "    @ IJulia ~/.julia/packages/IJulia/e8kqU/src/execute_request.jl:112",
      " [24] #invokelatest#2",
      "    @ ./essentials.jl:716 [inlined]",
      " [25] invokelatest",
      "    @ ./essentials.jl:714 [inlined]",
      " [26] eventloop(socket::ZMQ.Socket)",
      "    @ IJulia ~/.julia/packages/IJulia/e8kqU/src/eventloop.jl:8",
      " [27] (::IJulia.var\"#15#18\")()",
      "    @ IJulia ./task.jl:423"
     ]
    }
   ],
   "source": [
    "plot_difference(problems;fourier=false)"
   ]
  },
  {
   "cell_type": "markdown",
   "metadata": {},
   "source": [
    "Generate animation"
   ]
  },
  {
   "cell_type": "code",
   "execution_count": 8,
   "metadata": {},
   "outputs": [
    {
     "ename": "LoadError",
     "evalue": "could not load library \"libGR.dylib\"\ndlopen(/Users/vduchene/.julia/artifacts/6905350bc6f9e339b3c85fceaa487595c2e9bee0/lib/../lib/libGR.dylib, 1): Library not loaded: @rpath/libjpeg.62.dylib\n  Referenced from: /Users/vduchene/.julia/artifacts/6905350bc6f9e339b3c85fceaa487595c2e9bee0/lib/libGR.dylib\n  Reason: image not found",
     "output_type": "error",
     "traceback": [
      "could not load library \"libGR.dylib\"\ndlopen(/Users/vduchene/.julia/artifacts/6905350bc6f9e339b3c85fceaa487595c2e9bee0/lib/../lib/libGR.dylib, 1): Library not loaded: @rpath/libjpeg.62.dylib\n  Referenced from: /Users/vduchene/.julia/artifacts/6905350bc6f9e339b3c85fceaa487595c2e9bee0/lib/libGR.dylib\n  Reason: image not found",
      "",
      "Stacktrace:",
      "  [1] dlopen(s::String, flags::UInt32; throw_error::Bool)",
      "    @ Base.Libc.Libdl ./libdl.jl:117",
      "  [2] dlopen (repeats 2 times)",
      "    @ ./libdl.jl:117 [inlined]",
      "  [3] load_libs(always::Bool)",
      "    @ GR ~/.julia/packages/GR/ziR7T/src/funcptrs.jl:63",
      "  [4] get_func_ptr(handle::Base.RefValue{Ptr{Nothing}}, ptrs::GR.LibGR_Ptrs, func::Symbol)",
      "    @ GR ~/.julia/packages/GR/ziR7T/src/funcptrs.jl:77",
      "  [5] libGR_ptr",
      "    @ ~/.julia/packages/GR/ziR7T/src/funcptrs.jl:87 [inlined]",
      "  [6] setcharheight(height::Float64)",
      "    @ GR ~/.julia/packages/GR/ziR7T/src/GR.jl:1654",
      "  [7] gr_set_font(f::Plots.Font, s::Plots.Subplot{Plots.GRBackend}; halign::Symbol, valign::Symbol, color::ColorTypes.RGBA{Float64}, rotation::Float64)",
      "    @ Plots ~/.julia/packages/Plots/9C6z9/src/backends/gr.jl:408",
      "  [8] gr_set_font(f::Plots.Font, s::Plots.Subplot{Plots.GRBackend})",
      "    @ Plots ~/.julia/packages/Plots/9C6z9/src/backends/gr.jl:407",
      "  [9] _update_min_padding!(sp::Plots.Subplot{Plots.GRBackend})",
      "    @ Plots ~/.julia/packages/Plots/9C6z9/src/backends/gr.jl:789",
      " [10] iterate",
      "    @ ./generator.jl:47 [inlined]",
      " [11] _collect(c::Matrix{RecipesBase.AbstractLayout}, itr::Base.Generator{Matrix{RecipesBase.AbstractLayout}, typeof(Plots._update_min_padding!)}, #unused#::Base.EltypeUnknown, isz::Base.HasShape{2})",
      "    @ Base ./array.jl:744",
      " [12] collect_similar",
      "    @ ./array.jl:653 [inlined]",
      " [13] map",
      "    @ ./abstractarray.jl:2849 [inlined]",
      " [14] _update_min_padding!(layout::Plots.GridLayout)",
      "    @ Plots ~/.julia/packages/Plots/9C6z9/src/layouts.jl:290",
      " [15] prepare_output(plt::Plots.Plot{Plots.GRBackend})",
      "    @ Plots ~/.julia/packages/Plots/9C6z9/src/plot.jl:224",
      " [16] show",
      "    @ ~/.julia/packages/Plots/9C6z9/src/output.jl:213 [inlined]",
      " [17] png(plt::Plots.Plot{Plots.GRBackend}, fn::String)",
      "    @ Plots ~/.julia/packages/Plots/9C6z9/src/output.jl:7",
      " [18] frame(anim::Plots.Animation, plt::Plots.Plot{Plots.GRBackend})",
      "    @ Plots ~/.julia/packages/Plots/9C6z9/src/animation.jl:20",
      " [19] frame(anim::Plots.Animation)",
      "    @ Plots ~/.julia/packages/Plots/9C6z9/src/animation.jl:18",
      " [20] macro expansion",
      "    @ ~/.julia/packages/Plots/9C6z9/src/animation.jl:184 [inlined]",
      " [21] macro expansion",
      "    @ ~/Desktop/Julia/WaterWavesModels/WaterWaves1D.jl/src/figures.jl:78 [inlined]",
      " [22] macro expansion",
      "    @ ~/.julia/packages/Plots/9C6z9/src/animation.jl:197 [inlined]",
      " [23] create_animation(problems::Matrix{Problem}; name::Nothing, x::Nothing, Nframes::Int64, xlims::Nothing, ylims::Tuple{Float64, Int64}, vlims::Nothing, flims::Nothing, interpolation::Bool, compression::Bool, surface::Bool, fourier::Bool, velocity::Bool)",
      "    @ WaterWaves1D ~/Desktop/Julia/WaterWavesModels/WaterWaves1D.jl/src/figures.jl:57",
      " [24] top-level scope",
      "    @ In[8]:1",
      " [25] eval",
      "    @ ./boot.jl:373 [inlined]",
      " [26] include_string(mapexpr::typeof(REPL.softscope), mod::Module, code::String, filename::String)",
      "    @ Base ./loading.jl:1196"
     ]
    }
   ],
   "source": [
    "anim = create_animation(problems;fourier=false,ylims=(-0.5,1))\n",
    "import Plots.gif\n",
    "gif(anim, \"Example.gif\", fps=15)"
   ]
  }
 ],
 "metadata": {
  "@webio": {
   "lastCommId": "0117dcdd49c14385ba9fb305c46e5ade",
   "lastKernelId": "9191a364-eb63-41b7-a2b5-682921f02547"
  },
  "kernelspec": {
   "display_name": "Julia 1.7.1",
   "language": "julia",
   "name": "julia-1.7"
  },
  "language_info": {
   "file_extension": ".jl",
   "mimetype": "application/julia",
   "name": "julia",
   "version": "1.7.1"
  }
 },
 "nbformat": 4,
 "nbformat_minor": 2
}
