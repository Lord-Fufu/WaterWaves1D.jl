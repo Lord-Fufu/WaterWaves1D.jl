{
 "cells": [
  {
   "cell_type": "markdown",
   "metadata": {},
   "source": [
    "*This notebook provides a comparison of several models for water waves on the results of an experiment of\n",
    "[Hammack\\&Segur](https://dx.doi.org/10.1017/S002211207800020) experiment, in the spirit of [Carter](https://dx.doi.org/10.1016/j.wavemoti.2018.07.004)).*"
   ]
  },
  {
   "cell_type": "markdown",
   "metadata": {},
   "source": [
    "## Initialization"
   ]
  },
  {
   "cell_type": "markdown",
   "metadata": {},
   "source": [
    "Import package"
   ]
  },
  {
   "cell_type": "code",
   "execution_count": 1,
   "metadata": {},
   "outputs": [
    {
     "name": "stderr",
     "output_type": "stream",
     "text": [
      "\u001b[32m\u001b[1m Activating\u001b[22m\u001b[39m environment at `~/Desktop/Julia/WaterWavesModels/WaterWaves1D.jl/Project.toml`\n",
      "┌ Info: Precompiling WaterWaves1D [1a68f91a-d9eb-11e8-2e16-69ad0016fc96]\n",
      "└ @ Base loading.jl:1260\n"
     ]
    }
   ],
   "source": [
    "Pkg.activate(\"..\")\n",
    "using WaterWaves1D\n",
    "#include(\"../src/dependencies.jl\");\n",
    "include(\"../src/models/WaterWaves.jl\"); #include the model which will be used\n",
    "include(\"../src/models/WWn.jl\");\n",
    "include(\"../src/models/SerreGreenNaghdi.jl\");\n",
    "include(\"../src/models/WhithamGreenNaghdi.jl\");"
   ]
  },
  {
   "cell_type": "markdown",
   "metadata": {},
   "source": [
    "Define parameters of the problem"
   ]
  },
  {
   "cell_type": "code",
   "execution_count": 2,
   "metadata": {},
   "outputs": [
    {
     "data": {
      "text/plain": [
       "(μ = 1, ϵ = 1, N = 4096, L = 1561.6, T = 396.18177646126026, dt = 0.39618177646126024)"
      ]
     },
     "execution_count": 2,
     "metadata": {},
     "output_type": "execute_result"
    }
   ],
   "source": [
    "d  = 0.1;  # depth of the basin (in m)\n",
    "g  = 9.81; # gravitational acceleration\n",
    "λ  = 0.1;  # typical horizontal length (=d to simplify)\n",
    "T  = 40;   # final time (in s)\n",
    "L  = 156.16;# half-length of the numerical tank (in m)  \n",
    "param = ( \n",
    "    # Physical parameters. Variables are non-dimensionalized as in Lannes, The water waves problem, isbn:978-0-8218-9470-5\n",
    "    μ  = 1,    # shallow-water dimensionless parameter\n",
    "    ϵ  = 1,    # nonlinearity dimensionless parameter\n",
    "    # Numerical parameters\n",
    "    N  = 2^12, # number of collocation points\n",
    "    L  = L/d,       # half-length of the numerical tank ( = 156.16 m)\n",
    "    T  = T*sqrt(g*d)/λ, # final time of computation (= 50 s)\n",
    "    dt = T*sqrt(g*d)/λ/10^3, # timestep\n",
    "                )"
   ]
  },
  {
   "cell_type": "markdown",
   "metadata": {},
   "source": [
    "Define initial data (as in [Carter](https://dx.doi.org/10.1016/j.wavemoti.2018.07.004)).\n"
   ]
  },
  {
   "cell_type": "code",
   "execution_count": 3,
   "metadata": {},
   "outputs": [
    {
     "ename": "UndefVarError",
     "evalue": "UndefVarError: x not defined",
     "output_type": "error",
     "traceback": [
      "UndefVarError: x not defined",
      "",
      "Stacktrace:",
      " [1] top-level scope at In[3]:6"
     ]
    }
   ],
   "source": [
    "using Elliptic,Plots\n",
    "a = 0.005 # half-amplitude of the initial data (in m)\n",
    "sn(x) = getindex.(ellipj.(9.25434*x*d,0.9999^2),1);  # regularized step function\n",
    "η0(x) = (-1/2*a.+1/2*a*sn(x)).*(x*d.<.61).*(x*d.>-1.83)/d;\n",
    "init = Init(x->2*η0(x),x->zero(x));         # generate the initial data with correct type\n",
    "\n",
    "plot(x,[init.η(Mesh(param).x)*d init.v(x)],\n",
    "    title=\"initial data\",\n",
    "    label=[\"surface deformation\" \"velocity\"],\n",
    "    xlims=(-20,10)\n",
    "    )"
   ]
  },
  {
   "cell_type": "markdown",
   "metadata": {},
   "source": [
    "Set up initial-value problems for different models to compare"
   ]
  },
  {
   "cell_type": "code",
   "execution_count": null,
   "metadata": {},
   "outputs": [],
   "source": [
    "model_WW2=WWn(param;n=2,dealias=1,δ=1/10,verbose=false) # The quadratic water waves model (WW2)\n",
    "model_SGN=SerreGreenNaghdi(param;verbose=false) # The Serre-Green-Naghdi model (SGN)\n",
    "model_WGN=WhithamGreenNaghdi(param;verbose=false) # The fully dispersive Whitham-Green-Naghdi model (WGN)\n",
    "# type `?WaterWaves` or `?WWn`, etc. to see details and signification of arguments\n",
    "WW2=Problem(model_WW2, init, param) ;\n",
    "SGN=Problem(model_SGN, init, param) ;\n",
    "WGN=Problem(model_WGN, init, param) ;"
   ]
  },
  {
   "cell_type": "markdown",
   "metadata": {},
   "source": [
    "## Computation"
   ]
  },
  {
   "cell_type": "markdown",
   "metadata": {},
   "source": [
    "Solve integration in time"
   ]
  },
  {
   "cell_type": "code",
   "execution_count": null,
   "metadata": {},
   "outputs": [],
   "source": [
    "solve!(WW);solve!(WW2);solve!(SGN);solve!(WGN);"
   ]
  },
  {
   "cell_type": "markdown",
   "metadata": {},
   "source": [
    "## Visualization"
   ]
  },
  {
   "cell_type": "markdown",
   "metadata": {},
   "source": [
    "Import the data (from the [Hammack\\&Segur](https://dx.doi.org/10.1017/S0022112078000208) experiment, kindly provided by [Carter](https://dx.doi.org/10.1016/j.wavemoti.2018.07.004))"
   ]
  },
  {
   "cell_type": "code",
   "execution_count": null,
   "metadata": {},
   "outputs": [],
   "source": [
    "using DelimitedFiles\n",
    "data2a = readdlm(\"./Hammack-Segur/Fig2aFixed.out\",'\\t');\n",
    "data2b = readdlm(\"./Hammack-Segur/Fig2bFixed.out\",'\\t');\n",
    "data2c = readdlm(\"./Hammack-Segur/Fig2cFixed.out\",'\\t');\n",
    "data2d = readdlm(\"./Hammack-Segur/Fig2dFixed.out\",'\\t');\n",
    "data2e = readdlm(\"./Hammack-Segur/Fig2eFixed.out\",'\\t');"
   ]
  },
  {
   "cell_type": "code",
   "execution_count": null,
   "metadata": {},
   "outputs": [],
   "source": [
    "\"\"\" \n",
    "    gauge(p::Problem;x,t)\n",
    "\n",
    "Give the surface elevation provided by a problem \n",
    "at a specific location `x` (by default, `x=0`), \n",
    "and at times defined by `t` if provided (otherwise at all computed times).\n",
    "\"\"\"\n",
    "function gauge(p::Problem;x=0,t=nothing)\n",
    "    if t==nothing\n",
    "        times=p.times.ts\n",
    "    elseif t[1]==t\n",
    "        times=[t]\n",
    "    else\n",
    "        times=t\n",
    "    end\n",
    "    times/sqrt(g*d)*λ,[solution(p,t=ti,x=[x])[1][1] for ti in times]*d\n",
    "end"
   ]
  },
  {
   "cell_type": "markdown",
   "metadata": {},
   "source": [
    "Plot data and numerics at first gauge"
   ]
  },
  {
   "cell_type": "code",
   "execution_count": null,
   "metadata": {},
   "outputs": [],
   "source": [
    "plt=plot(data2a[:,1]/sqrt(g*d)*λ,data2a[:,2]*d*2/3,\n",
    "    title=\"first gauge\",\n",
    "    label=\"experiment\",\n",
    "    xlabel=\"time (in s)\",\n",
    "    ylabel=\"surface deformation (in m)\")\n",
    "plot!([gauge(WW2,x=1),gauge(SGN,x=1),gauge(WGN,x=1)],\n",
    "    label=[\"WW2\" \"SGN\" \"WGN\"])\n",
    "xlims!(0,5)"
   ]
  },
  {
   "cell_type": "markdown",
   "metadata": {},
   "source": [
    "Plot data and numerics at second gauge"
   ]
  },
  {
   "cell_type": "code",
   "execution_count": null,
   "metadata": {},
   "outputs": [],
   "source": [
    "plt=plot((data2b[:,1].+50)/sqrt(g*d)*λ,data2b[:,2]*d*2/3,\n",
    "    title=\"second gauge\",\n",
    "    label=\"experiment\",\n",
    "    xlabel=\"time (in s)\",\n",
    "    ylabel=\"surface deformation (in m)\")\n",
    "plot!([gauge(WW2,x=51.),gauge(SGN,x=51.),gauge(WGN,x=51.)],\n",
    "    label=[\"WW2\" \"SGN\" \"WGN\"])\n",
    "xlims!(5,17)"
   ]
  },
  {
   "cell_type": "markdown",
   "metadata": {},
   "source": [
    "Plot data and numerics at third gauge"
   ]
  },
  {
   "cell_type": "code",
   "execution_count": null,
   "metadata": {},
   "outputs": [],
   "source": [
    "plt=plot((data2c[:,1].+100)/sqrt(g*d)*λ,data2c[:,2]*d*2/3,\n",
    "    title=\"third gauge\",\n",
    "    label=\"experiment\",\n",
    "    xlabel=\"time (in s)\",\n",
    "    ylabel=\"surface deformation (in m)\")\n",
    "plot!([gauge(WW2,x=101.),gauge(SGN,x=101.),gauge(WGN,x=101.)],\n",
    "    label=[\"WW2\" \"SGN\" \"WGN\"])\n",
    "xlims!(10,30)"
   ]
  },
  {
   "cell_type": "markdown",
   "metadata": {},
   "source": [
    "Plot data and numerics at fourth gauge"
   ]
  },
  {
   "cell_type": "code",
   "execution_count": null,
   "metadata": {},
   "outputs": [],
   "source": [
    "plt=plot((data2d[:,1].+150)/sqrt(g*d)*λ,data2d[:,2]*d*2/3,\n",
    "    title=\"fourth gauge\",\n",
    "    label=\"experiment\",\n",
    "    xlabel=\"time\",\n",
    "    ylabel=\"surface deformation\")\n",
    "plot!([gauge(WW2,x=151.),gauge(SGN,x=151.),gauge(WGN,x=151.)],\n",
    "    label=[\"WW2\" \"SGN\" \"WGN\"])\n",
    "xlims!(15,35)"
   ]
  },
  {
   "cell_type": "markdown",
   "metadata": {},
   "source": [
    "Plot data and numerics at fifth gauge"
   ]
  },
  {
   "cell_type": "code",
   "execution_count": null,
   "metadata": {},
   "outputs": [],
   "source": [
    "plt=plot((data2e[:,1].+200)/sqrt(g*d)*λ,data2e[:,2]*d*2/3,\n",
    "    title=\"fifth gauge\",\n",
    "    label=\"experiment\",\n",
    "    xlabel=\"time\",\n",
    "    ylabel=\"surface deformation\")\n",
    "plot!([gauge(WW2,x=201.),gauge(SGN,x=201.),gauge(WGN,x=201.)],\n",
    "    label=[\"WW2\" \"SGN\" \"WGN\"])\n",
    "xlims!(20,40)"
   ]
  },
  {
   "cell_type": "markdown",
   "metadata": {},
   "source": [
    "50[1]==50"
   ]
  },
  {
   "cell_type": "code",
   "execution_count": null,
   "metadata": {},
   "outputs": [],
   "source": [
    "plot(x,solution(WW2))\n",
    "plot!(x, solution(WW2).-solution(WGN))"
   ]
  },
  {
   "cell_type": "code",
   "execution_count": null,
   "metadata": {},
   "outputs": [],
   "source": []
  }
 ],
 "metadata": {
  "kernelspec": {
   "display_name": "Julia 1.4.0",
   "language": "julia",
   "name": "julia-1.4"
  },
  "language_info": {
   "file_extension": ".jl",
   "mimetype": "application/julia",
   "name": "julia",
   "version": "1.4.0"
  }
 },
 "nbformat": 4,
 "nbformat_minor": 2
}
